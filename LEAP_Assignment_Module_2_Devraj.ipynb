{
 "cells": [
  {
   "cell_type": "markdown",
   "id": "2cd3785d",
   "metadata": {},
   "source": [
    "# My Jupyter Notebook on IBM Watson Studio"
   ]
  },
  {
   "cell_type": "markdown",
   "id": "d37e6896",
   "metadata": {},
   "source": [
    "### DEVRAJ CHOUDHARY\n",
    "#### Senior Analyst"
   ]
  },
  {
   "cell_type": "markdown",
   "id": "babbee71",
   "metadata": {},
   "source": [
    "*I am interested in data science because I want to solve some real world problems with data predicting about it. I want to work in healthcare industry to solve complex problems with data and increse the life of people.*"
   ]
  },
  {
   "cell_type": "markdown",
   "id": "b4886959",
   "metadata": {},
   "source": [
    "### I will print result for adding two values."
   ]
  },
  {
   "cell_type": "code",
   "execution_count": 3,
   "id": "c10ca156",
   "metadata": {},
   "outputs": [
    {
     "name": "stdout",
     "output_type": "stream",
     "text": [
      "30\n"
     ]
    }
   ],
   "source": [
    "a=10\n",
    "b=20\n",
    "print(a+b)"
   ]
  },
  {
   "cell_type": "markdown",
   "id": "7d5bbcae",
   "metadata": {},
   "source": [
    "***one***\n",
    "* two \n",
    "\n",
    "~three~\n"
   ]
  }
 ],
 "metadata": {
  "kernelspec": {
   "display_name": "Python 3 (ipykernel)",
   "language": "python",
   "name": "python3"
  },
  "language_info": {
   "codemirror_mode": {
    "name": "ipython",
    "version": 3
   },
   "file_extension": ".py",
   "mimetype": "text/x-python",
   "name": "python",
   "nbconvert_exporter": "python",
   "pygments_lexer": "ipython3",
   "version": "3.9.12"
  }
 },
 "nbformat": 4,
 "nbformat_minor": 5
}
